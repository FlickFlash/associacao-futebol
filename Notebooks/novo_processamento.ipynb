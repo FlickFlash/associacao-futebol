{
 "cells": [
  {
   "cell_type": "code",
   "execution_count": 1,
   "metadata": {},
   "outputs": [],
   "source": [
    "import pandas as pd"
   ]
  },
  {
   "cell_type": "code",
   "execution_count": 2,
   "metadata": {},
   "outputs": [],
   "source": [
    "dados_baygon = pd.read_excel(\n",
    "    r\"C:\\Users\\José Roberto\\Documents\\Baygon Geral\\Codigo\\associacao-futebol\\Teste_1_Jogador_Completo\\Sumula_Novo_Padrao.xlsx\",\n",
    "    sheet_name=None,\n",
    "    header=1,\n",
    "    engine=\"calamine\"\n",
    ")"
   ]
  },
  {
   "cell_type": "code",
   "execution_count": 5,
   "metadata": {},
   "outputs": [
    {
     "data": {
      "text/html": [
       "<div>\n",
       "<style scoped>\n",
       "    .dataframe tbody tr th:only-of-type {\n",
       "        vertical-align: middle;\n",
       "    }\n",
       "\n",
       "    .dataframe tbody tr th {\n",
       "        vertical-align: top;\n",
       "    }\n",
       "\n",
       "    .dataframe thead th {\n",
       "        text-align: right;\n",
       "    }\n",
       "</style>\n",
       "<table border=\"1\" class=\"dataframe\">\n",
       "  <thead>\n",
       "    <tr style=\"text-align: right;\">\n",
       "      <th></th>\n",
       "      <th>Baba</th>\n",
       "      <th>Campo</th>\n",
       "      <th>Arbitro</th>\n",
       "    </tr>\n",
       "  </thead>\n",
       "  <tbody>\n",
       "    <tr>\n",
       "      <th>0</th>\n",
       "      <td>T10B01</td>\n",
       "      <td>Arena Baygon</td>\n",
       "      <td>Clóvis do Apito</td>\n",
       "    </tr>\n",
       "    <tr>\n",
       "      <th>1</th>\n",
       "      <td>T10B02</td>\n",
       "      <td>Arena Baygon</td>\n",
       "      <td>João do Cartão</td>\n",
       "    </tr>\n",
       "    <tr>\n",
       "      <th>2</th>\n",
       "      <td>T10B03</td>\n",
       "      <td>Arena Baygon</td>\n",
       "      <td>Clóvis do Apito</td>\n",
       "    </tr>\n",
       "    <tr>\n",
       "      <th>3</th>\n",
       "      <td>T10B04</td>\n",
       "      <td>Arena Baygon</td>\n",
       "      <td>João do Cartão</td>\n",
       "    </tr>\n",
       "  </tbody>\n",
       "</table>\n",
       "</div>"
      ],
      "text/plain": [
       "     Baba         Campo          Arbitro\n",
       "0  T10B01  Arena Baygon  Clóvis do Apito\n",
       "1  T10B02  Arena Baygon   João do Cartão\n",
       "2  T10B03  Arena Baygon  Clóvis do Apito\n",
       "3  T10B04  Arena Baygon   João do Cartão"
      ]
     },
     "execution_count": 5,
     "metadata": {},
     "output_type": "execute_result"
    }
   ],
   "source": [
    "dados_baygon[\"Baba\"]"
   ]
  }
 ],
 "metadata": {
  "kernelspec": {
   "display_name": "Python 3",
   "language": "python",
   "name": "python3"
  },
  "language_info": {
   "codemirror_mode": {
    "name": "ipython",
    "version": 3
   },
   "file_extension": ".py",
   "mimetype": "text/x-python",
   "name": "python",
   "nbconvert_exporter": "python",
   "pygments_lexer": "ipython3",
   "version": "3.11.9"
  }
 },
 "nbformat": 4,
 "nbformat_minor": 2
}
