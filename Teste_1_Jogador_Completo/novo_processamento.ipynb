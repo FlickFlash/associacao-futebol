{
 "cells": [
  {
   "cell_type": "code",
   "execution_count": 1,
   "metadata": {},
   "outputs": [],
   "source": [
    "# pip install openpyxl"
   ]
  },
  {
   "cell_type": "code",
   "execution_count": 1,
   "metadata": {},
   "outputs": [],
   "source": [
    "import pandas as pd\n",
    "# import openpyxl"
   ]
  },
  {
   "cell_type": "code",
   "execution_count": 2,
   "metadata": {},
   "outputs": [],
   "source": [
    "sumula = pd.read_excel(\n",
    "    r\"C:\\Users\\José Roberto\\Documents\\Baygon Geral\\Codigo\\associacao-futebol\\Teste_1_Jogador_Completo\\Sumula_Novo_Padrao.xlsx\",\n",
    "    sheet_name=None,\n",
    "    header=1,\n",
    "    engine=\"calamine\"\n",
    ")"
   ]
  },
  {
   "cell_type": "code",
   "execution_count": 3,
   "metadata": {},
   "outputs": [
    {
     "name": "stdout",
     "output_type": "stream",
     "text": [
      "dict_keys(['Baba', 'Boleiros', 'Individual', 'Times', 'Pizza', 'Premios', 'DefesasPenaltis', 'Ouros', 'Contra'])\n"
     ]
    }
   ],
   "source": [
    "print(sumula.keys())"
   ]
  },
  {
   "cell_type": "code",
   "execution_count": null,
   "metadata": {},
   "outputs": [],
   "source": [
    "lista_resultados = []\n",
    "sumula[\"Pizza\"][\"Pizza\"] = 1\n",
    "for col in sumula[\"Pizza\"].columns:\n",
    "    if col.startswith(\"Colete\"):\n",
    "        resultados = sumula[\"Individual\"].merge(sumula[\"Pizza\"], how=\"left\", left_on=[\"Baba\", \"Colete\"], right_on=[\"Baba\", col])\n",
    "        lista_resultados.append(resultados)\n",
    "sumula_pizza = pd.concat(lista_resultados, ignore_index=True)\n",
    "sumula_pizza[\"Pizza\"] = sumula_pizza[\"Pizza\"].fillna(0).astype(int)\n",
    "\n",
    "sumula_pizza = sumula_pizza.drop(\n",
    "    columns=[col for col in sumula_pizza.columns if col.startswith(\"Colete\") and col != \"Colete\"]\n",
    ")\n",
    "\n",
    "# Quando há mais de um \"colete\" vencedor, os resultados são duplicados, sendo necessário remover as duplicatas\n",
    "sumula_pizza = sumula_pizza.sort_values(by=\"Pizza\", ascending=False).drop_duplicates(subset=[\"Baba\", \"Boleiro\"], keep=\"first\")\n",
    "\n",
    "sumula_pizza = sumula_pizza.sort_values(by=[\"Baba\", \"Colete\", \"Boleiro\"], ascending=True)\n",
    "# sumula_completa.head(10)"
   ]
  },
  {
   "cell_type": "code",
   "execution_count": null,
   "metadata": {},
   "outputs": [],
   "source": [
    "sumula_defesaspenalti = sumula_pizza.merge(sumula[\"DefesasPenaltis\"], how=\"left\", on=[\"Baba\", \"Boleiro\"])\n",
    "sumula_defesaspenalti[\"Defesas de Penalti\"] = sumula_defesaspenalti[\"Defesas de Penalti\"].fillna(0).astype(\"int\")\n",
    "# sumula_defesaspenalti"
   ]
  },
  {
   "cell_type": "code",
   "execution_count": 6,
   "metadata": {},
   "outputs": [],
   "source": [
    "# duplas_final = pd.DataFrame()\n",
    "# for coluna_boleiro in time.columns:\n",
    "#     if \"Boleiro\" in coluna_boleiro:\n",
    "#         duplas = (sumula[[\"Baba\", \"Colete\", \"Boleiro\", \"Pizza\", \"Vitorias\", \"Derrotas\", \"Empates\"]]\n",
    "#                 .merge(time, how=\"left\", left_on=[\"Baba\", \"Colete\", \"Boleiro\"], right_on=[\"Baba\", \"Colete\", coluna_boleiro])\n",
    "#                 .melt(id_vars=[\"Baba\", \"Colete\", \"Boleiro\", \"Pizza\", \"Vitorias\", \"Derrotas\", \"Empates\"],\n",
    "#             value_vars=[\"Boleiro1\", \"Boleiro2\", \"Boleiro3\", \"Boleiro4\", \"Boleiro5\", \"Boleiro6\"],\n",
    "#             var_name=\"Origem\",\n",
    "#             value_name=\"SegundoBoleiro\")\n",
    "#             .drop(columns=\"Origem\"))\n",
    "#         duplas = duplas[duplas[\"Boleiro\"] != duplas[\"SegundoBoleiro\"]].reset_index(drop=True)\n",
    "#         duplas_final = pd.concat([duplas_final, duplas], ignore_index=True)\n",
    "# duplas_final = duplas_final.rename(columns={\"SegundoBoleiro\":\"Boleiro2\"})"
   ]
  },
  {
   "cell_type": "code",
   "execution_count": 7,
   "metadata": {},
   "outputs": [],
   "source": [
    "# grupo_duplas = duplas_final.groupby([\"Boleiro\", \"Boleiro2\"]).agg(\n",
    "#     Total_Pizza=(\"Pizza\", \"sum\"),\n",
    "#     Total_Vitorias=(\"Vitorias\", \"sum\"),\n",
    "#     Total_Derrotas=(\"Derrotas\", \"sum\"),\n",
    "#     Total_Empates=(\"Empates\", \"sum\"),\n",
    "#     Total_Babas=(\"Baba\", \"count\")\n",
    "# ).reset_index()\n",
    "# grupo_duplas[\"Total_Partidas\"] = grupo_duplas[\"Total_Vitorias\"] + grupo_duplas[\"Total_Derrotas\"] + grupo_duplas[\"Total_Empates\"]\n",
    "# grupo_duplas[\"P_Vitorias\"] = grupo_duplas[\"Total_Vitorias\"] / grupo_duplas[\"Total_Partidas\"]\n",
    "# grupo_duplas[\"P_Derrotas\"] = grupo_duplas[\"Total_Derrotas\"] / grupo_duplas[\"Total_Partidas\"]\n",
    "# grupo_duplas[\"P_Empates\"] = grupo_duplas[\"Total_Empates\"] / grupo_duplas[\"Total_Partidas\"]\n",
    "# grupo_duplas[\"P_VD\"] = grupo_duplas[\"Total_Vitorias\"] / (grupo_duplas[\"Total_Vitorias\"] + grupo_duplas[\"Total_Derrotas\"])\n",
    "# grupo_duplas[\"M_Pizza\"] = grupo_duplas[\"Total_Pizza\"] / grupo_duplas[\"Total_Babas\"]\n",
    "# grupo_duplas[\"M_Vitorias\"] = grupo_duplas[\"Total_Vitorias\"] / grupo_duplas[\"Total_Babas\"]\n",
    "# grupo_duplas[\"M_Derrotas\"] = grupo_duplas[\"Total_Derrotas\"] / grupo_duplas[\"Total_Babas\"]\n",
    "# grupo_duplas[\"M_Empates\"] = grupo_duplas[\"Total_Empates\"] / grupo_duplas[\"Total_Babas\"]\n",
    "# grupo_duplas = grupo_duplas[\n",
    "#             [\n",
    "#                 \"Boleiro\",\n",
    "#                 \"Boleiro2\",\n",
    "#                 \"Total_Pizza\",\n",
    "#                 \"Total_Vitorias\",\n",
    "#                 \"Total_Derrotas\",\n",
    "#                 \"Total_Empates\",\n",
    "#                 \"Total_Partidas\",\n",
    "#                 \"Total_Babas\",\n",
    "#                 \"P_Vitorias\",\n",
    "#                 \"P_Derrotas\",\n",
    "#                 \"P_Empates\",\n",
    "#                 \"P_VD\",\n",
    "#                 \"M_Pizza\",\n",
    "#                 \"M_Vitorias\",\n",
    "#                 \"M_Derrotas\",\n",
    "#                 \"M_Empates\"\n",
    "#             ]\n",
    "#         ]"
   ]
  },
  {
   "cell_type": "code",
   "execution_count": 8,
   "metadata": {},
   "outputs": [],
   "source": [
    "# grupo_duplas = grupo_duplas.sort_values([\"Total_Babas\", \"Total_Partidas\", \"Total_Vitorias\"], ascending=False).reset_index(drop=True)\n",
    "# grupo_duplas.index = grupo_duplas.index + 1\n",
    "# grupo_duplas.to_excel(\"grupo_duplas.xlsx\", index=False)\n",
    "# grupo_duplas"
   ]
  },
  {
   "cell_type": "code",
   "execution_count": 9,
   "metadata": {},
   "outputs": [],
   "source": [
    "# ranking_completo = sumula.groupby(\"Boleiro\").agg(\n",
    "#     Artilharia=(\"Gols\", \"sum\"),\n",
    "#     Assistencias=(\"Assistencias\", \"sum\"),\n",
    "#     Babas_Conquistados=(\"Vitorias\", \"sum\"),\n",
    "#     Babas_Perdidos=(\"Derrotas\", \"sum\"),\n",
    "#     Empates=(\"Empates\", \"sum\"),\n",
    "#     Pizza=(\"Pizza\", \"sum\"),\n",
    "#     Presenca_no_Baba=(\"Baba\", \"count\"),\n",
    "#     PB=(\"Pontos no Baba\", \"sum\"),\n",
    "#     Mensalidade=(\"Mensalidade\", \"sum\"),\n",
    "#     Pontos_de_Colaboracao=(\"Colaboracao\",\"sum\"),\n",
    "#     Copa=(\"Pontos de Copa\",\"sum\"),\n",
    "#     Ouros=(\"Ouros\",\"sum\"),\n",
    "#     Gols_Contra=(\"Gols Contra\",\"sum\"),\n",
    "#     ).reset_index()\n",
    "# # ranking_completo"
   ]
  }
 ],
 "metadata": {
  "kernelspec": {
   "display_name": "Python 3",
   "language": "python",
   "name": "python3"
  },
  "language_info": {
   "codemirror_mode": {
    "name": "ipython",
    "version": 3
   },
   "file_extension": ".py",
   "mimetype": "text/x-python",
   "name": "python",
   "nbconvert_exporter": "python",
   "pygments_lexer": "ipython3",
   "version": "3.11.9"
  }
 },
 "nbformat": 4,
 "nbformat_minor": 2
}
