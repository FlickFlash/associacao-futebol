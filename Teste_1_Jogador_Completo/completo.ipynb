{
 "cells": [
  {
   "cell_type": "code",
   "execution_count": null,
   "metadata": {},
   "outputs": [],
   "source": [
    "import pandas as pd"
   ]
  },
  {
   "cell_type": "code",
   "execution_count": null,
   "metadata": {},
   "outputs": [],
   "source": [
    "sumula = pd.read_excel(\n",
    "    r\"C:\\Users\\José Roberto\\Documents\\Baygon Geral\\Codigo\\associacao-futebol\\Teste_1_Jogador_Completo\\Sumula_Ze.xlsx\",\n",
    "    sheet_name=\"Sumula\",\n",
    "    header=1,\n",
    "    engine=\"calamine\"\n",
    ")\n",
    "time = pd.read_excel(\n",
    "    r\"C:\\Users\\José Roberto\\Documents\\Baygon Geral\\Codigo\\associacao-futebol\\Teste_1_Jogador_Completo\\Times_Ze.xlsx\",\n",
    "    sheet_name=\"Times\",\n",
    "    header=1,\n",
    "    engine=\"calamine\"\n",
    ")"
   ]
  },
  {
   "cell_type": "code",
   "execution_count": null,
   "metadata": {},
   "outputs": [],
   "source": [
    "# Não está correto o merge por \"Boleiro1\", foi somente para facilitar/adiantar\n",
    "duplas = (sumula[[\"Baba\", \"Colete\", \"Boleiro\", \"Pizza\", \"Vitorias\", \"Derrotas\", \"Empates\"]]\n",
    "          .merge(time, how=\"left\", left_on=[\"Baba\", \"Colete\", \"Boleiro\"], right_on=[\"Baba\", \"Colete\", \"Boleiro1\"])\n",
    "          .melt(id_vars=[\"Baba\", \"Colete\", \"Boleiro\", \"Pizza\", \"Vitorias\", \"Derrotas\", \"Empates\"],\n",
    "    value_vars=[\"Boleiro1\", \"Boleiro2\", \"Boleiro3\", \"Boleiro4\", \"Boleiro5\", \"Boleiro6\"],\n",
    "    var_name=\"Origem\",\n",
    "    value_name=\"SegundoBoleiro\")\n",
    "    .rename(columns={\"SegundoBoleiro\":\"Boleiro2\"})\n",
    "    .dropna(subset=[\"Boleiro2\"])\n",
    "    .drop(columns=\"Origem\"))\n",
    "\n",
    "duplas = duplas[duplas[\"Boleiro\"] != duplas[\"Boleiro2\"]].reset_index(drop=True)"
   ]
  },
  {
   "cell_type": "code",
   "execution_count": null,
   "metadata": {},
   "outputs": [],
   "source": [
    "duplas.head(5)"
   ]
  },
  {
   "cell_type": "code",
   "execution_count": null,
   "metadata": {},
   "outputs": [],
   "source": [
    "grupo_duplas = duplas.groupby([\"Boleiro\", \"Boleiro2\"]).agg(\n",
    "    Total_Pizza=(\"Pizza\", \"sum\"),\n",
    "    Total_Vitorias=(\"Vitorias\", \"sum\"),\n",
    "    Total_Derrotas=(\"Derrotas\", \"sum\"),\n",
    "    Total_Empates=(\"Empates\", \"sum\"),\n",
    "    Total_Babas=(\"Baba\", \"count\")\n",
    ").reset_index()\n",
    "grupo_duplas[\"Total_Partidas\"] = grupo_duplas[\"Total_Vitorias\"] + grupo_duplas[\"Total_Derrotas\"] + grupo_duplas[\"Total_Empates\"]\n",
    "grupo_duplas[\"P_Vitorias\"] = grupo_duplas[\"Total_Vitorias\"] / grupo_duplas[\"Total_Partidas\"]\n",
    "grupo_duplas[\"P_Derrotas\"] = grupo_duplas[\"Total_Derrotas\"] / grupo_duplas[\"Total_Partidas\"]\n",
    "grupo_duplas[\"P_Empates\"] = grupo_duplas[\"Total_Empates\"] / grupo_duplas[\"Total_Partidas\"]\n",
    "grupo_duplas[\"P_VD\"] = grupo_duplas[\"Total_Vitorias\"] / (grupo_duplas[\"Total_Vitorias\"] + grupo_duplas[\"Total_Derrotas\"])\n",
    "grupo_duplas[\"P_Pizza\"] = grupo_duplas[\"Total_Pizza\"] / grupo_duplas[\"Total_Babas\"]\n",
    "grupo_duplas = grupo_duplas[\n",
    "            [\n",
    "                \"Boleiro\",\n",
    "                \"Boleiro2\",\n",
    "                \"Total_Pizza\",\n",
    "                \"Total_Vitorias\",\n",
    "                \"Total_Derrotas\",\n",
    "                \"Total_Empates\",\n",
    "                \"Total_Partidas\",\n",
    "                \"Total_Babas\",\n",
    "                \"P_Vitorias\",\n",
    "                \"P_Derrotas\",\n",
    "                \"P_Empates\",\n",
    "                \"P_VD\",\n",
    "                \"P_Pizza\"\n",
    "            ]\n",
    "        ]\n",
    "\n"
   ]
  },
  {
   "cell_type": "code",
   "execution_count": null,
   "metadata": {},
   "outputs": [],
   "source": [
    "# grupo_duplas = grupo_duplas.sort_values(\"P_Vitorias\", ascending=False).reset_index(drop=True)\n",
    "# grupo_duplas = grupo_duplas.sort_values(\"P_Derrotas\", ascending=False).reset_index(drop=True)\n",
    "# grupo_duplas = grupo_duplas.sort_values(\"P_VD\", ascending=False).reset_index(drop=True)\n",
    "grupo_duplas = grupo_duplas.sort_values([\"P_Pizza\", \"P_Vitorias\"], ascending=False).reset_index(drop=True)\n",
    "grupo_duplas.index = grupo_duplas.index + 1\n",
    "grupo_duplas"
   ]
  }
 ],
 "metadata": {
  "kernelspec": {
   "display_name": "Python 3",
   "language": "python",
   "name": "python3"
  },
  "language_info": {
   "codemirror_mode": {
    "name": "ipython",
    "version": 3
   },
   "file_extension": ".py",
   "mimetype": "text/x-python",
   "name": "python",
   "nbconvert_exporter": "python",
   "pygments_lexer": "ipython3",
   "version": "3.11.9"
  }
 },
 "nbformat": 4,
 "nbformat_minor": 2
}
