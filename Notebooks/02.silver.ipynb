{
 "cells": [
  {
   "cell_type": "code",
   "execution_count": 20,
   "metadata": {},
   "outputs": [],
   "source": [
    "import pandas as pd\n",
    "import os"
   ]
  },
  {
   "cell_type": "code",
   "execution_count": 21,
   "metadata": {},
   "outputs": [],
   "source": [
    "def leitura_csv(file_name):\n",
    "    return pd.read_csv(f\"..\\\\CSV\\\\01.bronze\\\\bronze_{file_name}.csv\")\n",
    "\n",
    "def salvamento_csv(dataframe, file_name):\n",
    "    caminho_salvamento = f\"..\\\\CSV\\\\02.silver\\\\\"\n",
    "    os.makedirs(caminho_salvamento, exist_ok=True)\n",
    "    dataframe.to_csv(f\"{caminho_salvamento}\\\\silver_{file_name}.csv\", index=False)"
   ]
  },
  {
   "cell_type": "code",
   "execution_count": 22,
   "metadata": {},
   "outputs": [],
   "source": [
    "df_individual = leitura_csv(\"desempenho_individual\")\n",
    "df_times = leitura_csv(\"desempenho_times\")\n",
    "df_info = leitura_csv(\"info_partidas\")\n",
    "\n",
    "df_individual = df_individual.sort_values([\"Baba\", \"Time\", \"Jogador\"], ascending=[False, True, True])\n",
    "df_times = df_times.sort_values([\"Baba\", \"Time\"], ascending=[False, True])\n",
    "df_info = df_info.sort_values(\"Baba\", ascending=False)\n",
    "\n",
    "salvamento_csv(df_individual, \"desempenho_individual\")\n",
    "salvamento_csv(df_times, \"desempenho_times\")\n",
    "salvamento_csv(df_info, \"info_partidas\")"
   ]
  }
 ],
 "metadata": {
  "kernelspec": {
   "display_name": "Python 3",
   "language": "python",
   "name": "python3"
  },
  "language_info": {
   "codemirror_mode": {
    "name": "ipython",
    "version": 3
   },
   "file_extension": ".py",
   "mimetype": "text/x-python",
   "name": "python",
   "nbconvert_exporter": "python",
   "pygments_lexer": "ipython3",
   "version": "3.11.9"
  }
 },
 "nbformat": 4,
 "nbformat_minor": 2
}
