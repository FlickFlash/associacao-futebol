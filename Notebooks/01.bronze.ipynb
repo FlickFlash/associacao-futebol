{
 "cells": [
  {
   "cell_type": "code",
   "execution_count": 11,
   "metadata": {},
   "outputs": [],
   "source": [
    "import pandas as pd\n",
    "from unicodedata2 import normalize\n",
    "import os\n",
    "import glob\n",
    "import re\n",
    "import shutil"
   ]
  },
  {
   "cell_type": "code",
   "execution_count": 12,
   "metadata": {},
   "outputs": [],
   "source": [
    "# Função para normalizar nomes de colunas, evitando erros futuros em salvamentos\n",
    "def normalizar_colunas(dataframe):\n",
    "    lista_colunas = []\n",
    "    for coluna in dataframe.columns:\n",
    "        nova_coluna = normalize('NFKD', coluna).encode('ascii', 'ignore').decode('utf-8').replace(' ', '_')\n",
    "        lista_colunas.append(nova_coluna)\n",
    "    dataframe.columns = lista_colunas\n",
    "    return dataframe\n",
    "\n",
    "# Função para remover partidas que não devam constar no arquivo final por estarem com o código errado\n",
    "def remover_por_codigo():\n",
    "    arquivos_excel = glob.glob(r\"..\\\\Excel\\\\*.xlsx\")\n",
    "    for arquivo in arquivos_excel:\n",
    "        nome_arquivo_excel = arquivo.split('\\\\')[-1]\n",
    "        # Verifica se \"REMOVER\" está no nome do arquivo e se o código \"TxxBxx\" também está presente (\"x\" são números)\n",
    "        if \"REMOVER\" in nome_arquivo_excel.upper() and re.search(r'T\\d{2}B\\d{2}', nome_arquivo_excel):\n",
    "            codigo_partida = re.search(r'T\\d{2}B\\d{2}', nome_arquivo_excel).group(0)\n",
    "            for arquivo_csv in glob.glob(r\"..\\\\CSV\\\\01.bronze\\\\*.csv\"):\n",
    "                try:\n",
    "                    nome_arquivo_csv = arquivo_csv.split('\\\\')[-1]\n",
    "                    caminho_arquivo = f\"..\\\\CSV\\\\01.bronze\\\\{nome_arquivo_csv}\"\n",
    "                    df = pd.read_csv(caminho_arquivo)\n",
    "                \n",
    "                    df_filtered = df[~df.apply(lambda row: row.astype(str).str.contains(codigo_partida).any(), axis=1)]\n",
    "                    \n",
    "                    df_filtered.to_csv(caminho_arquivo, index=False)\n",
    "                    # os.remove(arquivo)\n",
    "                except Exception as e:\n",
    "                    if str(e).__contains__(\"Permission denied\"):\n",
    "                        print(\"Feche o arquivo antes de salvar!\")\n",
    "                    else:\n",
    "                        print(e)\n",
    "\n",
    "#TODO Alterar forma de salvamento para quando o valor encontrado já existir no arquivo bronze\n",
    "def salvamento_csv(dataframe, nome_arquivo, nome_arquivo_excel):\n",
    "    caminho_arquivo = f\"..\\\\CSV\\\\01.bronze\\\\bronze_{nome_arquivo}.csv\"\n",
    "    if os.path.exists(caminho_arquivo):\n",
    "        dataframe.to_csv(caminho_arquivo, mode='a', header=False, index=False)\n",
    "        print(f\"Anexando '{nome_arquivo_excel}' a 'bronze_{nome_arquivo}.csv'.\")\n",
    "    else:\n",
    "        dataframe.to_csv(caminho_arquivo, mode='w', header=True, index=False)\n",
    "        print(f\"Criando 'bronze_{nome_arquivo}.csv' a partir de '{nome_arquivo_excel}'.\")"
   ]
  },
  {
   "cell_type": "code",
   "execution_count": 34,
   "metadata": {},
   "outputs": [
    {
     "name": "stdout",
     "output_type": "stream",
     "text": [
      "Anexando 'sUmULa_T01B01.xlsx' a 'bronze_desempenho_individual.csv'.\n",
      "Anexando 'sUmULa_T01B01.xlsx' a 'bronze_desempenho_times.csv'.\n",
      "Anexando 'sUmULa_T01B01.xlsx' a 'bronze_info_partidas.csv'.\n",
      "name  sUmULa_T01B01\n",
      "ext  .xlsx\n",
      "name  sUmULa_T01B01\n",
      "ext  .xlsx\n",
      "name  sUmULa_T01B01\n",
      "ext  .xlsx\n",
      "Há códigos do baba diferentes em 'Sumula_T01B03.xlsx' na aba 'Individual'.\n",
      "Há códigos do baba diferentes em 'Sumula_T01B03.xlsx' na aba 'Times'.\n",
      "Há códigos de baba diferentes em 'Sumula_T01B03.xlsx'.\n",
      "------------------------------------------------------------------\n",
      "O arquivo com nome 'REMOVER_T01B02.xlsx' não pôde ser processado.\n",
      "O arquivo com nome 'Sumula_T01B03.xlsx' não pôde ser processado.\n",
      "O arquivo com nome 'Sumula_T01BXX.xlsx' não pôde ser processado.\n"
     ]
    }
   ],
   "source": [
    "remover_por_codigo()\n",
    "\n",
    "caminho_excel = r\"..\\\\Excel\\\\\"\n",
    "pasta_excel = glob.glob(f\"{caminho_excel}\\\\*\")\n",
    "regex_arquivo_excel = r\"Sumula_T[0-9][0-9]B[0-9][0-9].xlsx\"\n",
    "arquivos_excel = glob.glob(os.path.join(caminho_excel, regex_arquivo_excel))\n",
    "for arquivo_excel in arquivos_excel:\n",
    "    try:\n",
    "        csv_indivudual = pd.read_csv(next(arquivo_excel for arquivo_excel in glob.glob(r\"..\\\\CSV\\\\01.bronze\\\\*.csv\") if \"individual\" in arquivo_excel.lower()))\n",
    "        csv_times = pd.read_csv(next(arquivo_excel for arquivo_excel in glob.glob(r\"..\\\\CSV\\\\01.bronze\\\\*.csv\") if \"times\" in arquivo_excel.lower()))\n",
    "        csv_info = pd.read_csv(next(arquivo_excel for arquivo_excel in glob.glob(r\"..\\\\CSV\\\\01.bronze\\\\*.csv\") if \"info\" in arquivo_excel.lower()))\n",
    "        nome_arquivo_excel = arquivo_excel.split('\\\\')[-1]\n",
    "        arquivo_completo = pd.read_excel(arquivo_excel, sheet_name=None, engine=\"calamine\")\n",
    "    except Exception as e:\n",
    "                if str(e).__contains__(\"Permission denied\"):\n",
    "                    print(\"Feche o arquivo antes de salvar!\")\n",
    "                else:\n",
    "                    print(e)\n",
    "\n",
    "    df_individual = arquivo_completo[\"Individual\"]\n",
    "    df_times = arquivo_completo[\"Times\"]\n",
    "    df_info = arquivo_completo[\"Informações\"]\n",
    "\n",
    "    normalizar_colunas(df_individual)\n",
    "    normalizar_colunas(df_times)\n",
    "    normalizar_colunas(df_info)\n",
    "\n",
    "    codigo_arquivo = re.search(r'T\\d{2}B\\d{2}', nome_arquivo_excel, re.IGNORECASE).group(0)\n",
    "    codigo_baba_ind = df_individual[\"Baba\"].unique()\n",
    "    qtd_codigo_baba_ind = len(codigo_baba_ind)\n",
    "    codigo_baba_times = df_times[\"Baba\"].unique()\n",
    "    qtd_codigo_baba_times = len(codigo_baba_times)\n",
    "    codigo_validacao = df_info[\"Baba\"][0]\n",
    "\n",
    "    for valor in codigo_baba_ind:\n",
    "        if valor != codigo_validacao:\n",
    "            print(f\"Há códigos do baba diferentes em '{nome_arquivo_excel}' na aba 'Individual'.\")\n",
    "        \n",
    "    for valor in codigo_baba_times:\n",
    "        if valor != codigo_validacao:\n",
    "            print(f\"Há códigos do baba diferentes em '{nome_arquivo_excel}' na aba 'Times'.\")\n",
    "\n",
    "    if (qtd_codigo_baba_ind == 1) and (qtd_codigo_baba_times == 1):\n",
    "        if codigo_baba_ind == codigo_baba_times == codigo_validacao == codigo_arquivo:\n",
    "            try:\n",
    "                # print(codigo_arquivo)\n",
    "                if codigo_arquivo in csv_info.iloc[:,0].unique():\n",
    "                    # print(f\"O código encontrado é {codigo_arquivo}\")\n",
    "                    csv_indivudual = csv_indivudual[~csv_indivudual.apply(lambda row: row.astype(str).str.contains(codigo_arquivo).any(), axis=1)]\n",
    "                    csv_times = csv_times[~csv_times.apply(lambda row: row.astype(str).str.contains(codigo_arquivo).any(), axis=1)]\n",
    "                    csv_info = csv_info[~csv_info.apply(lambda row: row.astype(str).str.contains(codigo_arquivo).any(), axis=1)]\n",
    "                    csv_indivudual.to_csv(next(arquivo_excel for arquivo_excel in glob.glob(r\"..\\\\CSV\\\\01.bronze\\\\*.csv\") if \"individual\" in arquivo_excel.lower()), index=False)\n",
    "                    csv_times.to_csv(next(arquivo_excel for arquivo_excel in glob.glob(r\"..\\\\CSV\\\\01.bronze\\\\*.csv\") if \"times\" in arquivo_excel.lower()), index=False)\n",
    "                    csv_info.to_csv(next(arquivo_excel for arquivo_excel in glob.glob(r\"..\\\\CSV\\\\01.bronze\\\\*.csv\") if \"info\" in arquivo_excel.lower()), index=False)\n",
    "                salvamento_csv(df_individual, \"desempenho_individual\", nome_arquivo_excel)\n",
    "                salvamento_csv(df_times, \"desempenho_times\", nome_arquivo_excel)\n",
    "                salvamento_csv(df_info, \"info_partidas\", nome_arquivo_excel)\n",
    "                destino_historico = r\"..\\\\Excel_Historico\\\\\"\n",
    "                os.makedirs(destino_historico, exist_ok=True)\n",
    "\n",
    "                base_name_with_ext = os.path.basename(arquivo_excel)\n",
    "                new_name = base_name_with_ext\n",
    "                counter = 1\n",
    "                # Check if the file exists in the destination and incrementally rename if needed\n",
    "                while os.path.exists(os.path.join(destino_historico, new_name)):\n",
    "                    # Split filename and extension\n",
    "                    name, ext = os.path.splitext(base_name_with_ext)\n",
    "                    print(\"name \", name)\n",
    "                    print(\"ext \", ext)\n",
    "                    # Update the filename to include the counter\n",
    "                    new_name = f\"{name}({counter}){ext}\"\n",
    "                    counter += 1\n",
    "                shutil.move(arquivo_excel, os.path.join(destino_historico, new_name))\n",
    "            except Exception as e:\n",
    "                if str(e).__contains__(\"Permission denied\"):\n",
    "                    print(\"Feche o arquivo antes de salvar!\")\n",
    "                else:\n",
    "                    print(e)\n",
    "        else:\n",
    "            print(f\"Há códigos de baba diferentes em '{nome_arquivo_excel}'.\")\n",
    "    else:\n",
    "            print(f\"Há códigos de baba diferentes em '{nome_arquivo_excel}'.\")\n",
    "print(\"------------------------------------------------------------------\")\n",
    "# Atualização da variável \"pasta_excel\" para pegar somente os caminhos restantes, ignorando os iniciais\n",
    "pasta_excel = glob.glob(f\"{caminho_excel}\\\\*\")\n",
    "for outro_arquivo_excel in pasta_excel:\n",
    "    nome_outro_arquivo_excel = outro_arquivo_excel.split('\\\\')[-1]\n",
    "    print(f\"O arquivo com nome '{nome_outro_arquivo_excel}' não pôde ser processado.\")"
   ]
  },
  {
   "cell_type": "code",
   "execution_count": 19,
   "metadata": {},
   "outputs": [
    {
     "name": "stdout",
     "output_type": "stream",
     "text": [
      "..\\\\Excel\\Sumula_Teste_T01B03.xlsx\n",
      "..\\\\Excel_Historico\\\\..\\\\Excel\\Sumula_Teste_T01B01(1).xlsx\n"
     ]
    }
   ],
   "source": [
    "print(arquivo_excel)\n",
    "print(os.path.join(destino_historico, new_name))"
   ]
  },
  {
   "cell_type": "code",
   "execution_count": 45,
   "metadata": {},
   "outputs": [
    {
     "name": "stdout",
     "output_type": "stream",
     "text": [
      "t01b01\n",
      "T01B03\n"
     ]
    }
   ],
   "source": [
    "caminho_excel = r\"..\\\\Excel\\\\\"\n",
    "pasta_excel = glob.glob(f\"{caminho_excel}\\\\*\")\n",
    "regex_arquivo_excel = r\"Sumula_t[0-9][0-9]b[0-9][0-9].xlsx\"\n",
    "arquivos_excel = glob.glob(os.path.join(caminho_excel, regex_arquivo_excel))\n",
    "for arquivo in arquivos_excel:\n",
    "    codigo_arquivo = re.search(r'T\\d{2}B\\d{2}', arquivo, re.IGNORECASE).group(0)\n",
    "    print(codigo_arquivo)"
   ]
  }
 ],
 "metadata": {
  "kernelspec": {
   "display_name": "Python 3",
   "language": "python",
   "name": "python3"
  },
  "language_info": {
   "codemirror_mode": {
    "name": "ipython",
    "version": 3
   },
   "file_extension": ".py",
   "mimetype": "text/x-python",
   "name": "python",
   "nbconvert_exporter": "python",
   "pygments_lexer": "ipython3",
   "version": "3.11.9"
  }
 },
 "nbformat": 4,
 "nbformat_minor": 2
}
