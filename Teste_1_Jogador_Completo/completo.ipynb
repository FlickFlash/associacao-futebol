{
 "cells": [
  {
   "cell_type": "code",
   "execution_count": 12,
   "metadata": {},
   "outputs": [
    {
     "name": "stdout",
     "output_type": "stream",
     "text": [
      "Collecting openpyxl\n",
      "  Downloading openpyxl-3.1.5-py2.py3-none-any.whl.metadata (2.5 kB)\n",
      "Collecting et-xmlfile (from openpyxl)\n",
      "  Downloading et_xmlfile-2.0.0-py3-none-any.whl.metadata (2.7 kB)\n",
      "Downloading openpyxl-3.1.5-py2.py3-none-any.whl (250 kB)\n",
      "   ---------------------------------------- 0.0/250.9 kB ? eta -:--:--\n",
      "   - -------------------------------------- 10.2/250.9 kB ? eta -:--:--\n",
      "   ---- ---------------------------------- 30.7/250.9 kB 435.7 kB/s eta 0:00:01\n",
      "   --------------- ---------------------- 102.4/250.9 kB 845.5 kB/s eta 0:00:01\n",
      "   ----------------------------------- ---- 225.3/250.9 kB 1.4 MB/s eta 0:00:01\n",
      "   ---------------------------------------- 250.9/250.9 kB 1.4 MB/s eta 0:00:00\n",
      "Downloading et_xmlfile-2.0.0-py3-none-any.whl (18 kB)\n",
      "Installing collected packages: et-xmlfile, openpyxl\n",
      "Successfully installed et-xmlfile-2.0.0 openpyxl-3.1.5\n",
      "Note: you may need to restart the kernel to use updated packages.\n"
     ]
    },
    {
     "name": "stderr",
     "output_type": "stream",
     "text": [
      "\n",
      "[notice] A new release of pip is available: 24.0 -> 24.3.1\n",
      "[notice] To update, run: C:\\Users\\José Roberto\\AppData\\Local\\Microsoft\\WindowsApps\\PythonSoftwareFoundation.Python.3.11_qbz5n2kfra8p0\\python.exe -m pip install --upgrade pip\n"
     ]
    }
   ],
   "source": [
    "# pip install openpyxl"
   ]
  },
  {
   "cell_type": "code",
   "execution_count": 13,
   "metadata": {},
   "outputs": [],
   "source": [
    "import pandas as pd\n",
    "import openpyxl"
   ]
  },
  {
   "cell_type": "code",
   "execution_count": 3,
   "metadata": {},
   "outputs": [],
   "source": [
    "sumula = pd.read_excel(\n",
    "    r\"C:\\Users\\José Roberto\\Documents\\Baygon Geral\\Codigo\\associacao-futebol\\Teste_1_Jogador_Completo\\Sumula_Ze.xlsx\",\n",
    "    sheet_name=\"Sumula\",\n",
    "    header=1,\n",
    "    engine=\"calamine\"\n",
    ")\n",
    "time = pd.read_excel(\n",
    "    r\"C:\\Users\\José Roberto\\Documents\\Baygon Geral\\Codigo\\associacao-futebol\\Teste_1_Jogador_Completo\\Times_Ze.xlsx\",\n",
    "    sheet_name=\"Times\",\n",
    "    header=1,\n",
    "    engine=\"calamine\"\n",
    ")"
   ]
  },
  {
   "cell_type": "code",
   "execution_count": 4,
   "metadata": {},
   "outputs": [],
   "source": [
    "# Não está correto o merge por \"Boleiro1\", foi somente para facilitar/adiantar\n",
    "duplas = (sumula[[\"Baba\", \"Colete\", \"Boleiro\", \"Pizza\", \"Vitorias\", \"Derrotas\", \"Empates\"]]\n",
    "          .merge(time, how=\"left\", left_on=[\"Baba\", \"Colete\", \"Boleiro\"], right_on=[\"Baba\", \"Colete\", \"Boleiro1\"])\n",
    "          .melt(id_vars=[\"Baba\", \"Colete\", \"Boleiro\", \"Pizza\", \"Vitorias\", \"Derrotas\", \"Empates\"],\n",
    "    value_vars=[\"Boleiro1\", \"Boleiro2\", \"Boleiro3\", \"Boleiro4\", \"Boleiro5\", \"Boleiro6\"],\n",
    "    var_name=\"Origem\",\n",
    "    value_name=\"SegundoBoleiro\")\n",
    "    .rename(columns={\"SegundoBoleiro\":\"Boleiro2\"})\n",
    "    .dropna(subset=[\"Boleiro2\"])\n",
    "    .drop(columns=\"Origem\"))\n",
    "\n",
    "duplas = duplas[duplas[\"Boleiro\"] != duplas[\"Boleiro2\"]].reset_index(drop=True)"
   ]
  },
  {
   "cell_type": "code",
   "execution_count": 5,
   "metadata": {},
   "outputs": [
    {
     "data": {
      "text/html": [
       "<div>\n",
       "<style scoped>\n",
       "    .dataframe tbody tr th:only-of-type {\n",
       "        vertical-align: middle;\n",
       "    }\n",
       "\n",
       "    .dataframe tbody tr th {\n",
       "        vertical-align: top;\n",
       "    }\n",
       "\n",
       "    .dataframe thead th {\n",
       "        text-align: right;\n",
       "    }\n",
       "</style>\n",
       "<table border=\"1\" class=\"dataframe\">\n",
       "  <thead>\n",
       "    <tr style=\"text-align: right;\">\n",
       "      <th></th>\n",
       "      <th>Baba</th>\n",
       "      <th>Colete</th>\n",
       "      <th>Boleiro</th>\n",
       "      <th>Pizza</th>\n",
       "      <th>Vitorias</th>\n",
       "      <th>Derrotas</th>\n",
       "      <th>Empates</th>\n",
       "      <th>Boleiro2</th>\n",
       "    </tr>\n",
       "  </thead>\n",
       "  <tbody>\n",
       "    <tr>\n",
       "      <th>0</th>\n",
       "      <td>T10B01</td>\n",
       "      <td>Vermelho</td>\n",
       "      <td>Zé</td>\n",
       "      <td>0</td>\n",
       "      <td>5</td>\n",
       "      <td>3</td>\n",
       "      <td>1</td>\n",
       "      <td>Nelson</td>\n",
       "    </tr>\n",
       "    <tr>\n",
       "      <th>1</th>\n",
       "      <td>T10B02</td>\n",
       "      <td>Preto</td>\n",
       "      <td>Zé</td>\n",
       "      <td>0</td>\n",
       "      <td>5</td>\n",
       "      <td>4</td>\n",
       "      <td>0</td>\n",
       "      <td>Abraão</td>\n",
       "    </tr>\n",
       "    <tr>\n",
       "      <th>2</th>\n",
       "      <td>T10B03</td>\n",
       "      <td>Cinza</td>\n",
       "      <td>Zé</td>\n",
       "      <td>0</td>\n",
       "      <td>0</td>\n",
       "      <td>6</td>\n",
       "      <td>1</td>\n",
       "      <td>Nelson</td>\n",
       "    </tr>\n",
       "    <tr>\n",
       "      <th>3</th>\n",
       "      <td>T10B04</td>\n",
       "      <td>Amarelo</td>\n",
       "      <td>Zé</td>\n",
       "      <td>0</td>\n",
       "      <td>3</td>\n",
       "      <td>0</td>\n",
       "      <td>3</td>\n",
       "      <td>Pig</td>\n",
       "    </tr>\n",
       "    <tr>\n",
       "      <th>4</th>\n",
       "      <td>T10B05</td>\n",
       "      <td>Verde</td>\n",
       "      <td>Zé</td>\n",
       "      <td>0</td>\n",
       "      <td>4</td>\n",
       "      <td>5</td>\n",
       "      <td>0</td>\n",
       "      <td>Leléo</td>\n",
       "    </tr>\n",
       "  </tbody>\n",
       "</table>\n",
       "</div>"
      ],
      "text/plain": [
       "     Baba    Colete Boleiro  Pizza  Vitorias  Derrotas  Empates Boleiro2\n",
       "0  T10B01  Vermelho      Zé      0         5         3        1   Nelson\n",
       "1  T10B02     Preto      Zé      0         5         4        0   Abraão\n",
       "2  T10B03     Cinza      Zé      0         0         6        1   Nelson\n",
       "3  T10B04   Amarelo      Zé      0         3         0        3      Pig\n",
       "4  T10B05     Verde      Zé      0         4         5        0    Leléo"
      ]
     },
     "execution_count": 5,
     "metadata": {},
     "output_type": "execute_result"
    }
   ],
   "source": [
    "duplas.head(5)"
   ]
  },
  {
   "cell_type": "code",
   "execution_count": 6,
   "metadata": {},
   "outputs": [],
   "source": [
    "grupo_duplas = duplas.groupby([\"Boleiro\", \"Boleiro2\"]).agg(\n",
    "    Total_Pizza=(\"Pizza\", \"sum\"),\n",
    "    Total_Vitorias=(\"Vitorias\", \"sum\"),\n",
    "    Total_Derrotas=(\"Derrotas\", \"sum\"),\n",
    "    Total_Empates=(\"Empates\", \"sum\"),\n",
    "    Total_Babas=(\"Baba\", \"count\")\n",
    ").reset_index()\n",
    "grupo_duplas[\"Total_Partidas\"] = grupo_duplas[\"Total_Vitorias\"] + grupo_duplas[\"Total_Derrotas\"] + grupo_duplas[\"Total_Empates\"]\n",
    "grupo_duplas[\"P_Vitorias\"] = grupo_duplas[\"Total_Vitorias\"] / grupo_duplas[\"Total_Partidas\"]\n",
    "grupo_duplas[\"P_Derrotas\"] = grupo_duplas[\"Total_Derrotas\"] / grupo_duplas[\"Total_Partidas\"]\n",
    "grupo_duplas[\"P_Empates\"] = grupo_duplas[\"Total_Empates\"] / grupo_duplas[\"Total_Partidas\"]\n",
    "grupo_duplas[\"P_VD\"] = grupo_duplas[\"Total_Vitorias\"] / (grupo_duplas[\"Total_Vitorias\"] + grupo_duplas[\"Total_Derrotas\"])\n",
    "grupo_duplas[\"P_Pizza\"] = grupo_duplas[\"Total_Pizza\"] / grupo_duplas[\"Total_Babas\"]\n",
    "grupo_duplas = grupo_duplas[\n",
    "            [\n",
    "                \"Boleiro\",\n",
    "                \"Boleiro2\",\n",
    "                \"Total_Pizza\",\n",
    "                \"Total_Vitorias\",\n",
    "                \"Total_Derrotas\",\n",
    "                \"Total_Empates\",\n",
    "                \"Total_Partidas\",\n",
    "                \"Total_Babas\",\n",
    "                \"P_Vitorias\",\n",
    "                \"P_Derrotas\",\n",
    "                \"P_Empates\",\n",
    "                \"P_VD\",\n",
    "                \"P_Pizza\"\n",
    "            ]\n",
    "        ]\n",
    "\n"
   ]
  },
  {
   "cell_type": "code",
   "execution_count": 14,
   "metadata": {},
   "outputs": [],
   "source": [
    "# grupo_duplas = grupo_duplas.sort_values(\"P_Vitorias\", ascending=False).reset_index(drop=True)\n",
    "# grupo_duplas = grupo_duplas.sort_values(\"P_Derrotas\", ascending=False).reset_index(drop=True)\n",
    "# grupo_duplas = grupo_duplas.sort_values(\"P_VD\", ascending=False).reset_index(drop=True)\n",
    "grupo_duplas = grupo_duplas.sort_values([\"Total_Babas\", \"Total_Partidas\", \"Total_Vitorias\"], ascending=False).reset_index(drop=True)\n",
    "# grupo_duplas = grupo_duplas.sort_values([\"P_Pizza\", \"P_Vitorias\"], ascending=False).reset_index(drop=True)\n",
    "grupo_duplas.index = grupo_duplas.index + 1\n",
    "grupo_duplas.to_excel(\"grupo_duplas.xlsx\", index=False)"
   ]
  }
 ],
 "metadata": {
  "kernelspec": {
   "display_name": "Python 3",
   "language": "python",
   "name": "python3"
  },
  "language_info": {
   "codemirror_mode": {
    "name": "ipython",
    "version": 3
   },
   "file_extension": ".py",
   "mimetype": "text/x-python",
   "name": "python",
   "nbconvert_exporter": "python",
   "pygments_lexer": "ipython3",
   "version": "3.11.9"
  }
 },
 "nbformat": 4,
 "nbformat_minor": 2
}
