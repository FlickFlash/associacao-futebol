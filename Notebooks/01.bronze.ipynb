{
 "cells": [
  {
   "cell_type": "code",
   "execution_count": 6,
   "metadata": {},
   "outputs": [],
   "source": [
    "import pandas as pd\n",
    "from unicodedata2 import normalize"
   ]
  },
  {
   "cell_type": "code",
   "execution_count": 7,
   "metadata": {},
   "outputs": [],
   "source": [
    "def normalizar_colunas(dataframe):\n",
    "    lista_colunas = []\n",
    "    for coluna in dataframe.columns:\n",
    "        nova_coluna = normalize('NFKD', coluna).encode('ascii', 'ignore').decode('utf-8')#.replace(' ', '_')\n",
    "        lista_colunas.append(nova_coluna)\n",
    "    dataframe.columns = lista_colunas\n",
    "    return dataframe\n",
    "\n",
    "def salvamento_csv(dataframe, file_name):\n",
    "    # TODO Verificação da existência da pasta (ou criação, caso não exista)\n",
    "    dataframe.to_csv(f\"..\\\\CSV\\\\01.bronze\\\\bronze_{file_name}.csv\", index=False)"
   ]
  },
  {
   "cell_type": "code",
   "execution_count": 10,
   "metadata": {},
   "outputs": [],
   "source": [
    "# TODO Carregamento dinâmico dos arquivos na pasta \"Excel\"\n",
    "arquivo_completo = pd.read_excel(r\"..\\Excel\\Sumula_Teste_T01B01.xlsx\", sheet_name=None, engine=\"calamine\")\n",
    "\n",
    "df_individual = arquivo_completo[\"Individual\"]\n",
    "normalizar_colunas(df_individual)\n",
    "\n",
    "df_times = arquivo_completo[\"Times\"]\n",
    "normalizar_colunas(df_times)\n",
    "\n",
    "df_info = arquivo_completo[\"Informações\"]\n",
    "normalizar_colunas(df_info)\n",
    "\n",
    "\n",
    "salvamento_csv(df_individual, \"desempenho_individual\")\n",
    "salvamento_csv(df_times, \"desempenho_times\")\n",
    "salvamento_csv(df_info, \"info_partidas\")\n"
   ]
  },
  {
   "cell_type": "code",
   "execution_count": null,
   "metadata": {},
   "outputs": [],
   "source": [
    "df_individual"
   ]
  },
  {
   "cell_type": "code",
   "execution_count": null,
   "metadata": {},
   "outputs": [],
   "source": [
    "df_times"
   ]
  },
  {
   "cell_type": "code",
   "execution_count": null,
   "metadata": {},
   "outputs": [],
   "source": [
    "df_info"
   ]
  }
 ],
 "metadata": {
  "kernelspec": {
   "display_name": "base",
   "language": "python",
   "name": "python3"
  },
  "language_info": {
   "codemirror_mode": {
    "name": "ipython",
    "version": 3
   },
   "file_extension": ".py",
   "mimetype": "text/x-python",
   "name": "python",
   "nbconvert_exporter": "python",
   "pygments_lexer": "ipython3",
   "version": "3.11.9"
  }
 },
 "nbformat": 4,
 "nbformat_minor": 2
}
