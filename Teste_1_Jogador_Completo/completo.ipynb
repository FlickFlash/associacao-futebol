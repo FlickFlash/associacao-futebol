{
 "cells": [
  {
   "cell_type": "code",
   "execution_count": 1,
   "metadata": {},
   "outputs": [],
   "source": [
    "# pip install openpyxl"
   ]
  },
  {
   "cell_type": "code",
   "execution_count": 2,
   "metadata": {},
   "outputs": [],
   "source": [
    "import pandas as pd\n",
    "import openpyxl"
   ]
  },
  {
   "cell_type": "code",
   "execution_count": 3,
   "metadata": {},
   "outputs": [],
   "source": [
    "sumula = pd.read_excel(\n",
    "    r\"C:\\Users\\José Roberto\\Documents\\Baygon Geral\\Codigo\\associacao-futebol\\Teste_1_Jogador_Completo\\Sumula_Ze.xlsx\",\n",
    "    sheet_name=\"Sumula\",\n",
    "    header=1,\n",
    "    engine=\"calamine\"\n",
    ")\n",
    "time = pd.read_excel(\n",
    "    r\"C:\\Users\\José Roberto\\Documents\\Baygon Geral\\Codigo\\associacao-futebol\\Teste_1_Jogador_Completo\\Times_Ze.xlsx\",\n",
    "    sheet_name=\"Times\",\n",
    "    header=1,\n",
    "    engine=\"calamine\"\n",
    ")"
   ]
  },
  {
   "cell_type": "code",
   "execution_count": 4,
   "metadata": {},
   "outputs": [
    {
     "data": {
      "text/plain": [
       "Index(['Baba', 'Colete', 'Boleiro1', 'Boleiro2', 'Boleiro3', 'Boleiro4',\n",
       "       'Boleiro5', 'Boleiro6'],\n",
       "      dtype='object')"
      ]
     },
     "execution_count": 4,
     "metadata": {},
     "output_type": "execute_result"
    }
   ],
   "source": [
    "time.columns"
   ]
  },
  {
   "cell_type": "code",
   "execution_count": 5,
   "metadata": {},
   "outputs": [],
   "source": [
    "duplas_final = pd.DataFrame()\n",
    "for coluna_boleiro in time.columns:\n",
    "    if \"Boleiro\" in coluna_boleiro:\n",
    "        duplas = (sumula[[\"Baba\", \"Colete\", \"Boleiro\", \"Pizza\", \"Vitorias\", \"Derrotas\", \"Empates\"]]\n",
    "                .merge(time, how=\"left\", left_on=[\"Baba\", \"Colete\", \"Boleiro\"], right_on=[\"Baba\", \"Colete\", coluna_boleiro])\n",
    "                .melt(id_vars=[\"Baba\", \"Colete\", \"Boleiro\", \"Pizza\", \"Vitorias\", \"Derrotas\", \"Empates\"],\n",
    "            value_vars=[\"Boleiro1\", \"Boleiro2\", \"Boleiro3\", \"Boleiro4\", \"Boleiro5\", \"Boleiro6\"],\n",
    "            var_name=\"Origem\",\n",
    "            value_name=\"SegundoBoleiro\")\n",
    "            .drop(columns=\"Origem\"))\n",
    "        duplas = duplas[duplas[\"Boleiro\"] != duplas[\"SegundoBoleiro\"]].reset_index(drop=True)\n",
    "        duplas_final = pd.concat([duplas_final, duplas], ignore_index=True)\n",
    "duplas_final = duplas_final.rename(columns={\"SegundoBoleiro\":\"Boleiro2\"})"
   ]
  },
  {
   "cell_type": "code",
   "execution_count": 6,
   "metadata": {},
   "outputs": [],
   "source": [
    "# Não está correto o merge por \"Boleiro1\", foi somente para facilitar/adiantar ## Código antigo\n",
    "# duplas = (sumula[[\"Baba\", \"Colete\", \"Boleiro\", \"Pizza\", \"Vitorias\", \"Derrotas\", \"Empates\"]]\n",
    "#           .merge(time, how=\"left\", left_on=[\"Baba\", \"Colete\", \"Boleiro\"], right_on=[\"Baba\", \"Colete\", \"Boleiro1\"])\n",
    "#           .melt(id_vars=[\"Baba\", \"Colete\", \"Boleiro\", \"Pizza\", \"Vitorias\", \"Derrotas\", \"Empates\"],\n",
    "#     value_vars=[\"Boleiro1\", \"Boleiro2\", \"Boleiro3\", \"Boleiro4\", \"Boleiro5\", \"Boleiro6\"],\n",
    "#     var_name=\"Origem\",\n",
    "#     value_name=\"SegundoBoleiro\")\n",
    "#     .rename(columns={\"SegundoBoleiro\":\"Boleiro2\"})\n",
    "#     .dropna(subset=[\"Boleiro2\"])\n",
    "#     .drop(columns=\"Origem\"))\n",
    "\n",
    "# duplas = duplas[duplas[\"Boleiro\"] != duplas[\"Boleiro2\"]].reset_index(drop=True)"
   ]
  },
  {
   "cell_type": "code",
   "execution_count": null,
   "metadata": {},
   "outputs": [],
   "source": [
    "grupo_duplas = duplas_final.groupby([\"Boleiro\", \"Boleiro2\"]).agg(\n",
    "    Total_Pizza=(\"Pizza\", \"sum\"),\n",
    "    Total_Vitorias=(\"Vitorias\", \"sum\"),\n",
    "    Total_Derrotas=(\"Derrotas\", \"sum\"),\n",
    "    Total_Empates=(\"Empates\", \"sum\"),\n",
    "    Total_Babas=(\"Baba\", \"count\")\n",
    ").reset_index()\n",
    "grupo_duplas[\"Total_Partidas\"] = grupo_duplas[\"Total_Vitorias\"] + grupo_duplas[\"Total_Derrotas\"] + grupo_duplas[\"Total_Empates\"]\n",
    "grupo_duplas[\"P_Vitorias\"] = grupo_duplas[\"Total_Vitorias\"] / grupo_duplas[\"Total_Partidas\"]\n",
    "grupo_duplas[\"P_Derrotas\"] = grupo_duplas[\"Total_Derrotas\"] / grupo_duplas[\"Total_Partidas\"]\n",
    "grupo_duplas[\"P_Empates\"] = grupo_duplas[\"Total_Empates\"] / grupo_duplas[\"Total_Partidas\"]\n",
    "grupo_duplas[\"P_VD\"] = grupo_duplas[\"Total_Vitorias\"] / (grupo_duplas[\"Total_Vitorias\"] + grupo_duplas[\"Total_Derrotas\"])\n",
    "grupo_duplas[\"M_Pizza\"] = grupo_duplas[\"Total_Pizza\"] / grupo_duplas[\"Total_Babas\"]\n",
    "grupo_duplas[\"M_Vitorias\"] = grupo_duplas[\"Total_Vitorias\"] / grupo_duplas[\"Total_Babas\"]\n",
    "grupo_duplas[\"M_Derrotas\"] = grupo_duplas[\"Total_Derrotas\"] / grupo_duplas[\"Total_Babas\"]\n",
    "grupo_duplas[\"M_Empates\"] = grupo_duplas[\"Total_Empates\"] / grupo_duplas[\"Total_Babas\"]\n",
    "grupo_duplas = grupo_duplas[\n",
    "            [\n",
    "                \"Boleiro\",\n",
    "                \"Boleiro2\",\n",
    "                \"Total_Pizza\",\n",
    "                \"Total_Vitorias\",\n",
    "                \"Total_Derrotas\",\n",
    "                \"Total_Empates\",\n",
    "                \"Total_Partidas\",\n",
    "                \"Total_Babas\",\n",
    "                \"P_Vitorias\",\n",
    "                \"P_Derrotas\",\n",
    "                \"P_Empates\",\n",
    "                \"P_VD\",\n",
    "                \"M_Pizza\",\n",
    "                \"M_Vitorias\",\n",
    "                \"M_Derrotas\",\n",
    "                \"M_Empates\"\n",
    "            ]\n",
    "        ]\n",
    "\n"
   ]
  },
  {
   "cell_type": "code",
   "execution_count": 8,
   "metadata": {},
   "outputs": [],
   "source": [
    "# grupo_duplas = grupo_duplas.sort_values(\"P_Vitorias\", ascending=False).reset_index(drop=True)\n",
    "# grupo_duplas = grupo_duplas.sort_values(\"P_Derrotas\", ascending=False).reset_index(drop=True)\n",
    "# grupo_duplas = grupo_duplas.sort_values(\"P_VD\", ascending=False).reset_index(drop=True)\n",
    "grupo_duplas = grupo_duplas.sort_values([\"Total_Babas\", \"Total_Partidas\", \"Total_Vitorias\"], ascending=False).reset_index(drop=True)\n",
    "# grupo_duplas = grupo_duplas.sort_values([\"P_Pizza\", \"P_Vitorias\"], ascending=False).reset_index(drop=True)\n",
    "grupo_duplas.index = grupo_duplas.index + 1\n",
    "grupo_duplas.to_excel(\"grupo_duplas.xlsx\", index=False)\n",
    "# grupo_duplas"
   ]
  },
  {
   "cell_type": "code",
   "execution_count": 15,
   "metadata": {},
   "outputs": [
    {
     "data": {
      "text/plain": [
       "Index(['Baba', 'Boleiro', 'Colete', 'Pontuacao', 'Gols', 'Assistencias',\n",
       "       'Vitorias', 'Derrotas', 'Empates', 'Pontos no Baba', 'Mensalidade',\n",
       "       'Colaboracao', 'Pontos de Copa', 'Pizza', 'Ouros', 'Gols Contra'],\n",
       "      dtype='object')"
      ]
     },
     "execution_count": 15,
     "metadata": {},
     "output_type": "execute_result"
    }
   ],
   "source": [
    "sumula.columns"
   ]
  },
  {
   "cell_type": "code",
   "execution_count": null,
   "metadata": {},
   "outputs": [
    {
     "data": {
      "text/html": [
       "<div>\n",
       "<style scoped>\n",
       "    .dataframe tbody tr th:only-of-type {\n",
       "        vertical-align: middle;\n",
       "    }\n",
       "\n",
       "    .dataframe tbody tr th {\n",
       "        vertical-align: top;\n",
       "    }\n",
       "\n",
       "    .dataframe thead th {\n",
       "        text-align: right;\n",
       "    }\n",
       "</style>\n",
       "<table border=\"1\" class=\"dataframe\">\n",
       "  <thead>\n",
       "    <tr style=\"text-align: right;\">\n",
       "      <th></th>\n",
       "      <th>Boleiro</th>\n",
       "      <th>Artilharia</th>\n",
       "      <th>Assistencias</th>\n",
       "      <th>Babas_Conquistados</th>\n",
       "      <th>Babas_Perdidos</th>\n",
       "      <th>Empates</th>\n",
       "      <th>Pizza</th>\n",
       "      <th>Presenca_no_Baba</th>\n",
       "      <th>PB</th>\n",
       "      <th>Mensalidade</th>\n",
       "      <th>Pontos_de_Colaboracao</th>\n",
       "      <th>Copa</th>\n",
       "      <th>Ouros</th>\n",
       "      <th>Gols_Contra</th>\n",
       "    </tr>\n",
       "  </thead>\n",
       "  <tbody>\n",
       "    <tr>\n",
       "      <th>0</th>\n",
       "      <td>Zé</td>\n",
       "      <td>72</td>\n",
       "      <td>72</td>\n",
       "      <td>107</td>\n",
       "      <td>108</td>\n",
       "      <td>53</td>\n",
       "      <td>6</td>\n",
       "      <td>37</td>\n",
       "      <td>555</td>\n",
       "      <td>33</td>\n",
       "      <td>70</td>\n",
       "      <td>35</td>\n",
       "      <td>3</td>\n",
       "      <td>3</td>\n",
       "    </tr>\n",
       "  </tbody>\n",
       "</table>\n",
       "</div>"
      ],
      "text/plain": [
       "  Boleiro  Artilharia  Assistencias  Babas_Conquistados  Babas_Perdidos  \\\n",
       "0      Zé          72            72                 107             108   \n",
       "\n",
       "   Empates  Pizza  Presenca_no_Baba   PB  Mensalidade  Pontos_de_Colaboracao  \\\n",
       "0       53      6                37  555           33                     70   \n",
       "\n",
       "   Copa  Ouros  Gols_Contra  \n",
       "0    35      3            3  "
      ]
     },
     "execution_count": 18,
     "metadata": {},
     "output_type": "execute_result"
    }
   ],
   "source": [
    "ranking_completo = sumula.groupby(\"Boleiro\").agg(\n",
    "    Artilharia=(\"Gols\", \"sum\"),\n",
    "    Assistencias=(\"Assistencias\", \"sum\"),\n",
    "    Babas_Conquistados=(\"Vitorias\", \"sum\"),\n",
    "    Babas_Perdidos=(\"Derrotas\", \"sum\"),\n",
    "    Empates=(\"Empates\", \"sum\"),\n",
    "    Pizza=(\"Pizza\", \"sum\"),\n",
    "    Presenca_no_Baba=(\"Baba\", \"count\"),\n",
    "    PB=(\"Pontos no Baba\", \"sum\"),\n",
    "    Mensalidade=(\"Mensalidade\", \"sum\"),\n",
    "    Pontos_de_Colaboracao=(\"Colaboracao\",\"sum\"),\n",
    "    Copa=(\"Pontos de Copa\",\"sum\"),\n",
    "    Ouros=(\"Ouros\",\"sum\"),\n",
    "    Gols_Contra=(\"Gols Contra\",\"sum\"),\n",
    "    ).reset_index()\n",
    "# ranking_completo"
   ]
  }
 ],
 "metadata": {
  "kernelspec": {
   "display_name": "Python 3",
   "language": "python",
   "name": "python3"
  },
  "language_info": {
   "codemirror_mode": {
    "name": "ipython",
    "version": 3
   },
   "file_extension": ".py",
   "mimetype": "text/x-python",
   "name": "python",
   "nbconvert_exporter": "python",
   "pygments_lexer": "ipython3",
   "version": "3.11.9"
  }
 },
 "nbformat": 4,
 "nbformat_minor": 2
}
